{
  "nbformat": 4,
  "nbformat_minor": 0,
  "metadata": {
    "colab": {
      "name": "AI12_Project02_전인웅.ipynb",
      "provenance": [],
      "collapsed_sections": []
    },
    "kernelspec": {
      "name": "python3",
      "display_name": "Python 3"
    },
    "language_info": {
      "name": "python"
    }
  },
  "cells": [
    {
      "cell_type": "markdown",
      "source": [
        "특성의 이름 \n",
        "# car : 자동차 브랜드\n",
        "# price : 자동차의 가격\n",
        "# body : 자동차 타입\n",
        "# mileage : 주행거리 (‘000 Km)\n",
        "# engV : 엔진의 용량\n",
        "# engType : 연료 타입\n",
        "# registation : 자동차 등록 여부\n",
        "# year : 제품의 연도\n",
        "# model : 특정 모델 이름\n",
        "# drive : 자동차 구동 방식\n"
      ],
      "metadata": {
        "id": "vA1pr8_VpESs"
      }
    },
    {
      "cell_type": "code",
      "execution_count": 81,
      "metadata": {
        "colab": {
          "base_uri": "https://localhost:8080/",
          "height": 206
        },
        "id": "WjG3wC_kz3hN",
        "outputId": "df11308e-91f8-4ebf-deac-37eb1d7615b1"
      },
      "outputs": [
        {
          "output_type": "execute_result",
          "data": {
            "text/plain": [
              "             car    price       body  mileage  engV engType registration  \\\n",
              "0           Ford  15500.0  crossover       68   2.5     Gas          yes   \n",
              "1  Mercedes-Benz  20500.0      sedan      173   1.8     Gas          yes   \n",
              "2  Mercedes-Benz  35000.0      other      135   5.5  Petrol          yes   \n",
              "3  Mercedes-Benz  17800.0        van      162   1.8  Diesel          yes   \n",
              "4  Mercedes-Benz  33000.0      vagon       91   NaN   Other          yes   \n",
              "\n",
              "   year    model  drive  \n",
              "0  2010     Kuga   full  \n",
              "1  2011  E-Class   rear  \n",
              "2  2008   CL 550   rear  \n",
              "3  2012    B 180  front  \n",
              "4  2013  E-Class    NaN  "
            ],
            "text/html": [
              "\n",
              "  <div id=\"df-eca4678c-baec-4f36-94ed-a5fdd770e2c3\">\n",
              "    <div class=\"colab-df-container\">\n",
              "      <div>\n",
              "<style scoped>\n",
              "    .dataframe tbody tr th:only-of-type {\n",
              "        vertical-align: middle;\n",
              "    }\n",
              "\n",
              "    .dataframe tbody tr th {\n",
              "        vertical-align: top;\n",
              "    }\n",
              "\n",
              "    .dataframe thead th {\n",
              "        text-align: right;\n",
              "    }\n",
              "</style>\n",
              "<table border=\"1\" class=\"dataframe\">\n",
              "  <thead>\n",
              "    <tr style=\"text-align: right;\">\n",
              "      <th></th>\n",
              "      <th>car</th>\n",
              "      <th>price</th>\n",
              "      <th>body</th>\n",
              "      <th>mileage</th>\n",
              "      <th>engV</th>\n",
              "      <th>engType</th>\n",
              "      <th>registration</th>\n",
              "      <th>year</th>\n",
              "      <th>model</th>\n",
              "      <th>drive</th>\n",
              "    </tr>\n",
              "  </thead>\n",
              "  <tbody>\n",
              "    <tr>\n",
              "      <th>0</th>\n",
              "      <td>Ford</td>\n",
              "      <td>15500.0</td>\n",
              "      <td>crossover</td>\n",
              "      <td>68</td>\n",
              "      <td>2.5</td>\n",
              "      <td>Gas</td>\n",
              "      <td>yes</td>\n",
              "      <td>2010</td>\n",
              "      <td>Kuga</td>\n",
              "      <td>full</td>\n",
              "    </tr>\n",
              "    <tr>\n",
              "      <th>1</th>\n",
              "      <td>Mercedes-Benz</td>\n",
              "      <td>20500.0</td>\n",
              "      <td>sedan</td>\n",
              "      <td>173</td>\n",
              "      <td>1.8</td>\n",
              "      <td>Gas</td>\n",
              "      <td>yes</td>\n",
              "      <td>2011</td>\n",
              "      <td>E-Class</td>\n",
              "      <td>rear</td>\n",
              "    </tr>\n",
              "    <tr>\n",
              "      <th>2</th>\n",
              "      <td>Mercedes-Benz</td>\n",
              "      <td>35000.0</td>\n",
              "      <td>other</td>\n",
              "      <td>135</td>\n",
              "      <td>5.5</td>\n",
              "      <td>Petrol</td>\n",
              "      <td>yes</td>\n",
              "      <td>2008</td>\n",
              "      <td>CL 550</td>\n",
              "      <td>rear</td>\n",
              "    </tr>\n",
              "    <tr>\n",
              "      <th>3</th>\n",
              "      <td>Mercedes-Benz</td>\n",
              "      <td>17800.0</td>\n",
              "      <td>van</td>\n",
              "      <td>162</td>\n",
              "      <td>1.8</td>\n",
              "      <td>Diesel</td>\n",
              "      <td>yes</td>\n",
              "      <td>2012</td>\n",
              "      <td>B 180</td>\n",
              "      <td>front</td>\n",
              "    </tr>\n",
              "    <tr>\n",
              "      <th>4</th>\n",
              "      <td>Mercedes-Benz</td>\n",
              "      <td>33000.0</td>\n",
              "      <td>vagon</td>\n",
              "      <td>91</td>\n",
              "      <td>NaN</td>\n",
              "      <td>Other</td>\n",
              "      <td>yes</td>\n",
              "      <td>2013</td>\n",
              "      <td>E-Class</td>\n",
              "      <td>NaN</td>\n",
              "    </tr>\n",
              "  </tbody>\n",
              "</table>\n",
              "</div>\n",
              "      <button class=\"colab-df-convert\" onclick=\"convertToInteractive('df-eca4678c-baec-4f36-94ed-a5fdd770e2c3')\"\n",
              "              title=\"Convert this dataframe to an interactive table.\"\n",
              "              style=\"display:none;\">\n",
              "        \n",
              "  <svg xmlns=\"http://www.w3.org/2000/svg\" height=\"24px\"viewBox=\"0 0 24 24\"\n",
              "       width=\"24px\">\n",
              "    <path d=\"M0 0h24v24H0V0z\" fill=\"none\"/>\n",
              "    <path d=\"M18.56 5.44l.94 2.06.94-2.06 2.06-.94-2.06-.94-.94-2.06-.94 2.06-2.06.94zm-11 1L8.5 8.5l.94-2.06 2.06-.94-2.06-.94L8.5 2.5l-.94 2.06-2.06.94zm10 10l.94 2.06.94-2.06 2.06-.94-2.06-.94-.94-2.06-.94 2.06-2.06.94z\"/><path d=\"M17.41 7.96l-1.37-1.37c-.4-.4-.92-.59-1.43-.59-.52 0-1.04.2-1.43.59L10.3 9.45l-7.72 7.72c-.78.78-.78 2.05 0 2.83L4 21.41c.39.39.9.59 1.41.59.51 0 1.02-.2 1.41-.59l7.78-7.78 2.81-2.81c.8-.78.8-2.07 0-2.86zM5.41 20L4 18.59l7.72-7.72 1.47 1.35L5.41 20z\"/>\n",
              "  </svg>\n",
              "      </button>\n",
              "      \n",
              "  <style>\n",
              "    .colab-df-container {\n",
              "      display:flex;\n",
              "      flex-wrap:wrap;\n",
              "      gap: 12px;\n",
              "    }\n",
              "\n",
              "    .colab-df-convert {\n",
              "      background-color: #E8F0FE;\n",
              "      border: none;\n",
              "      border-radius: 50%;\n",
              "      cursor: pointer;\n",
              "      display: none;\n",
              "      fill: #1967D2;\n",
              "      height: 32px;\n",
              "      padding: 0 0 0 0;\n",
              "      width: 32px;\n",
              "    }\n",
              "\n",
              "    .colab-df-convert:hover {\n",
              "      background-color: #E2EBFA;\n",
              "      box-shadow: 0px 1px 2px rgba(60, 64, 67, 0.3), 0px 1px 3px 1px rgba(60, 64, 67, 0.15);\n",
              "      fill: #174EA6;\n",
              "    }\n",
              "\n",
              "    [theme=dark] .colab-df-convert {\n",
              "      background-color: #3B4455;\n",
              "      fill: #D2E3FC;\n",
              "    }\n",
              "\n",
              "    [theme=dark] .colab-df-convert:hover {\n",
              "      background-color: #434B5C;\n",
              "      box-shadow: 0px 1px 3px 1px rgba(0, 0, 0, 0.15);\n",
              "      filter: drop-shadow(0px 1px 2px rgba(0, 0, 0, 0.3));\n",
              "      fill: #FFFFFF;\n",
              "    }\n",
              "  </style>\n",
              "\n",
              "      <script>\n",
              "        const buttonEl =\n",
              "          document.querySelector('#df-eca4678c-baec-4f36-94ed-a5fdd770e2c3 button.colab-df-convert');\n",
              "        buttonEl.style.display =\n",
              "          google.colab.kernel.accessAllowed ? 'block' : 'none';\n",
              "\n",
              "        async function convertToInteractive(key) {\n",
              "          const element = document.querySelector('#df-eca4678c-baec-4f36-94ed-a5fdd770e2c3');\n",
              "          const dataTable =\n",
              "            await google.colab.kernel.invokeFunction('convertToInteractive',\n",
              "                                                     [key], {});\n",
              "          if (!dataTable) return;\n",
              "\n",
              "          const docLinkHtml = 'Like what you see? Visit the ' +\n",
              "            '<a target=\"_blank\" href=https://colab.research.google.com/notebooks/data_table.ipynb>data table notebook</a>'\n",
              "            + ' to learn more about interactive tables.';\n",
              "          element.innerHTML = '';\n",
              "          dataTable['output_type'] = 'display_data';\n",
              "          await google.colab.output.renderOutput(dataTable, element);\n",
              "          const docLink = document.createElement('div');\n",
              "          docLink.innerHTML = docLinkHtml;\n",
              "          element.appendChild(docLink);\n",
              "        }\n",
              "      </script>\n",
              "    </div>\n",
              "  </div>\n",
              "  "
            ]
          },
          "metadata": {},
          "execution_count": 81
        }
      ],
      "source": [
        "import pandas as pd\n",
        "#데이터 불러오기\n",
        "car = pd.read_csv('/content/car_ad.csv',encoding = 'ISO-8859-1')\n",
        "car.head()\n"
      ]
    },
    {
      "cell_type": "code",
      "source": [
        "# car의 배열 확인\n",
        "car.shape"
      ],
      "metadata": {
        "colab": {
          "base_uri": "https://localhost:8080/"
        },
        "id": "c5ST5TKkgrpT",
        "outputId": "a2d20ab3-b7c4-41e8-ca9a-4cc37bf7803c"
      },
      "execution_count": 2,
      "outputs": [
        {
          "output_type": "execute_result",
          "data": {
            "text/plain": [
              "(9576, 10)"
            ]
          },
          "metadata": {},
          "execution_count": 2
        }
      ]
    },
    {
      "cell_type": "code",
      "source": [
        "# 자동차의 Vaule 확인\n",
        "car['car'].value_counts()"
      ],
      "metadata": {
        "colab": {
          "base_uri": "https://localhost:8080/"
        },
        "id": "25bVYiaa070Y",
        "outputId": "b4281a27-bbdd-4525-d44e-f2246e7c32a8"
      },
      "execution_count": 3,
      "outputs": [
        {
          "output_type": "execute_result",
          "data": {
            "text/plain": [
              "Volkswagen       936\n",
              "Mercedes-Benz    921\n",
              "BMW              694\n",
              "Toyota           541\n",
              "VAZ              489\n",
              "                ... \n",
              "ZX                 1\n",
              "Other-Retro        1\n",
              "Mercury            1\n",
              "Maserati           1\n",
              "Buick              1\n",
              "Name: car, Length: 87, dtype: int64"
            ]
          },
          "metadata": {},
          "execution_count": 3
        }
      ]
    },
    {
      "cell_type": "code",
      "source": [
        "# car 통계 정보 요약\n",
        "car.describe()"
      ],
      "metadata": {
        "colab": {
          "base_uri": "https://localhost:8080/",
          "height": 300
        },
        "id": "DFhNda921Ytu",
        "outputId": "6d405c52-5386-49c9-df66-6a8ae8140722"
      },
      "execution_count": 4,
      "outputs": [
        {
          "output_type": "execute_result",
          "data": {
            "text/plain": [
              "               price      mileage         engV         year\n",
              "count    9576.000000  9576.000000  9142.000000  9576.000000\n",
              "mean    15633.317316   138.862364     2.646344  2006.605994\n",
              "std     24106.523436    98.629754     5.927699     7.067924\n",
              "min         0.000000     0.000000     0.100000  1953.000000\n",
              "25%      4999.000000    70.000000     1.600000  2004.000000\n",
              "50%      9200.000000   128.000000     2.000000  2008.000000\n",
              "75%     16700.000000   194.000000     2.500000  2012.000000\n",
              "max    547800.000000   999.000000    99.990000  2016.000000"
            ],
            "text/html": [
              "\n",
              "  <div id=\"df-e3894ef0-436e-4bd2-b614-73211bde6ff9\">\n",
              "    <div class=\"colab-df-container\">\n",
              "      <div>\n",
              "<style scoped>\n",
              "    .dataframe tbody tr th:only-of-type {\n",
              "        vertical-align: middle;\n",
              "    }\n",
              "\n",
              "    .dataframe tbody tr th {\n",
              "        vertical-align: top;\n",
              "    }\n",
              "\n",
              "    .dataframe thead th {\n",
              "        text-align: right;\n",
              "    }\n",
              "</style>\n",
              "<table border=\"1\" class=\"dataframe\">\n",
              "  <thead>\n",
              "    <tr style=\"text-align: right;\">\n",
              "      <th></th>\n",
              "      <th>price</th>\n",
              "      <th>mileage</th>\n",
              "      <th>engV</th>\n",
              "      <th>year</th>\n",
              "    </tr>\n",
              "  </thead>\n",
              "  <tbody>\n",
              "    <tr>\n",
              "      <th>count</th>\n",
              "      <td>9576.000000</td>\n",
              "      <td>9576.000000</td>\n",
              "      <td>9142.000000</td>\n",
              "      <td>9576.000000</td>\n",
              "    </tr>\n",
              "    <tr>\n",
              "      <th>mean</th>\n",
              "      <td>15633.317316</td>\n",
              "      <td>138.862364</td>\n",
              "      <td>2.646344</td>\n",
              "      <td>2006.605994</td>\n",
              "    </tr>\n",
              "    <tr>\n",
              "      <th>std</th>\n",
              "      <td>24106.523436</td>\n",
              "      <td>98.629754</td>\n",
              "      <td>5.927699</td>\n",
              "      <td>7.067924</td>\n",
              "    </tr>\n",
              "    <tr>\n",
              "      <th>min</th>\n",
              "      <td>0.000000</td>\n",
              "      <td>0.000000</td>\n",
              "      <td>0.100000</td>\n",
              "      <td>1953.000000</td>\n",
              "    </tr>\n",
              "    <tr>\n",
              "      <th>25%</th>\n",
              "      <td>4999.000000</td>\n",
              "      <td>70.000000</td>\n",
              "      <td>1.600000</td>\n",
              "      <td>2004.000000</td>\n",
              "    </tr>\n",
              "    <tr>\n",
              "      <th>50%</th>\n",
              "      <td>9200.000000</td>\n",
              "      <td>128.000000</td>\n",
              "      <td>2.000000</td>\n",
              "      <td>2008.000000</td>\n",
              "    </tr>\n",
              "    <tr>\n",
              "      <th>75%</th>\n",
              "      <td>16700.000000</td>\n",
              "      <td>194.000000</td>\n",
              "      <td>2.500000</td>\n",
              "      <td>2012.000000</td>\n",
              "    </tr>\n",
              "    <tr>\n",
              "      <th>max</th>\n",
              "      <td>547800.000000</td>\n",
              "      <td>999.000000</td>\n",
              "      <td>99.990000</td>\n",
              "      <td>2016.000000</td>\n",
              "    </tr>\n",
              "  </tbody>\n",
              "</table>\n",
              "</div>\n",
              "      <button class=\"colab-df-convert\" onclick=\"convertToInteractive('df-e3894ef0-436e-4bd2-b614-73211bde6ff9')\"\n",
              "              title=\"Convert this dataframe to an interactive table.\"\n",
              "              style=\"display:none;\">\n",
              "        \n",
              "  <svg xmlns=\"http://www.w3.org/2000/svg\" height=\"24px\"viewBox=\"0 0 24 24\"\n",
              "       width=\"24px\">\n",
              "    <path d=\"M0 0h24v24H0V0z\" fill=\"none\"/>\n",
              "    <path d=\"M18.56 5.44l.94 2.06.94-2.06 2.06-.94-2.06-.94-.94-2.06-.94 2.06-2.06.94zm-11 1L8.5 8.5l.94-2.06 2.06-.94-2.06-.94L8.5 2.5l-.94 2.06-2.06.94zm10 10l.94 2.06.94-2.06 2.06-.94-2.06-.94-.94-2.06-.94 2.06-2.06.94z\"/><path d=\"M17.41 7.96l-1.37-1.37c-.4-.4-.92-.59-1.43-.59-.52 0-1.04.2-1.43.59L10.3 9.45l-7.72 7.72c-.78.78-.78 2.05 0 2.83L4 21.41c.39.39.9.59 1.41.59.51 0 1.02-.2 1.41-.59l7.78-7.78 2.81-2.81c.8-.78.8-2.07 0-2.86zM5.41 20L4 18.59l7.72-7.72 1.47 1.35L5.41 20z\"/>\n",
              "  </svg>\n",
              "      </button>\n",
              "      \n",
              "  <style>\n",
              "    .colab-df-container {\n",
              "      display:flex;\n",
              "      flex-wrap:wrap;\n",
              "      gap: 12px;\n",
              "    }\n",
              "\n",
              "    .colab-df-convert {\n",
              "      background-color: #E8F0FE;\n",
              "      border: none;\n",
              "      border-radius: 50%;\n",
              "      cursor: pointer;\n",
              "      display: none;\n",
              "      fill: #1967D2;\n",
              "      height: 32px;\n",
              "      padding: 0 0 0 0;\n",
              "      width: 32px;\n",
              "    }\n",
              "\n",
              "    .colab-df-convert:hover {\n",
              "      background-color: #E2EBFA;\n",
              "      box-shadow: 0px 1px 2px rgba(60, 64, 67, 0.3), 0px 1px 3px 1px rgba(60, 64, 67, 0.15);\n",
              "      fill: #174EA6;\n",
              "    }\n",
              "\n",
              "    [theme=dark] .colab-df-convert {\n",
              "      background-color: #3B4455;\n",
              "      fill: #D2E3FC;\n",
              "    }\n",
              "\n",
              "    [theme=dark] .colab-df-convert:hover {\n",
              "      background-color: #434B5C;\n",
              "      box-shadow: 0px 1px 3px 1px rgba(0, 0, 0, 0.15);\n",
              "      filter: drop-shadow(0px 1px 2px rgba(0, 0, 0, 0.3));\n",
              "      fill: #FFFFFF;\n",
              "    }\n",
              "  </style>\n",
              "\n",
              "      <script>\n",
              "        const buttonEl =\n",
              "          document.querySelector('#df-e3894ef0-436e-4bd2-b614-73211bde6ff9 button.colab-df-convert');\n",
              "        buttonEl.style.display =\n",
              "          google.colab.kernel.accessAllowed ? 'block' : 'none';\n",
              "\n",
              "        async function convertToInteractive(key) {\n",
              "          const element = document.querySelector('#df-e3894ef0-436e-4bd2-b614-73211bde6ff9');\n",
              "          const dataTable =\n",
              "            await google.colab.kernel.invokeFunction('convertToInteractive',\n",
              "                                                     [key], {});\n",
              "          if (!dataTable) return;\n",
              "\n",
              "          const docLinkHtml = 'Like what you see? Visit the ' +\n",
              "            '<a target=\"_blank\" href=https://colab.research.google.com/notebooks/data_table.ipynb>data table notebook</a>'\n",
              "            + ' to learn more about interactive tables.';\n",
              "          element.innerHTML = '';\n",
              "          dataTable['output_type'] = 'display_data';\n",
              "          await google.colab.output.renderOutput(dataTable, element);\n",
              "          const docLink = document.createElement('div');\n",
              "          docLink.innerHTML = docLinkHtml;\n",
              "          element.appendChild(docLink);\n",
              "        }\n",
              "      </script>\n",
              "    </div>\n",
              "  </div>\n",
              "  "
            ]
          },
          "metadata": {},
          "execution_count": 4
        }
      ]
    },
    {
      "cell_type": "code",
      "source": [
        "# car의 결측치 확인\n",
        "car.isnull().sum()"
      ],
      "metadata": {
        "colab": {
          "base_uri": "https://localhost:8080/"
        },
        "id": "e0Qgpd476WbZ",
        "outputId": "b59b72e1-5563-4434-d12c-53d66dbcf7b5"
      },
      "execution_count": 5,
      "outputs": [
        {
          "output_type": "execute_result",
          "data": {
            "text/plain": [
              "car               0\n",
              "price             0\n",
              "body              0\n",
              "mileage           0\n",
              "engV            434\n",
              "engType           0\n",
              "registration      0\n",
              "year              0\n",
              "model             0\n",
              "drive           511\n",
              "dtype: int64"
            ]
          },
          "metadata": {},
          "execution_count": 5
        }
      ]
    },
    {
      "cell_type": "code",
      "source": [
        "# 데이터 정확성을 위해 엔진의 용량의 결측치를 평균으로 대체\n",
        "car['engV'] = car['engV'].fillna(car['engV'].mean())\n",
        "car['engV'].head()"
      ],
      "metadata": {
        "colab": {
          "base_uri": "https://localhost:8080/"
        },
        "id": "aWVgHjYVTeci",
        "outputId": "065d1257-3ca4-4940-a71f-fc1e35ccfe17"
      },
      "execution_count": 86,
      "outputs": [
        {
          "output_type": "execute_result",
          "data": {
            "text/plain": [
              "0    2.500000\n",
              "1    1.800000\n",
              "2    5.500000\n",
              "3    1.800000\n",
              "4    2.646344\n",
              "Name: engV, dtype: float64"
            ]
          },
          "metadata": {},
          "execution_count": 86
        }
      ]
    },
    {
      "cell_type": "code",
      "source": [
        "# 결측치가 제거된 것을 확인\n",
        "car.isnull().sum()"
      ],
      "metadata": {
        "colab": {
          "base_uri": "https://localhost:8080/"
        },
        "id": "1kp0bY-nggkg",
        "outputId": "0585bc32-d264-4ee4-d74f-e5f94bcdfacf"
      },
      "execution_count": 7,
      "outputs": [
        {
          "output_type": "execute_result",
          "data": {
            "text/plain": [
              "car               0\n",
              "price             0\n",
              "body              0\n",
              "mileage           0\n",
              "engV              0\n",
              "engType           0\n",
              "registration      0\n",
              "year              0\n",
              "model             0\n",
              "drive           511\n",
              "dtype: int64"
            ]
          },
          "metadata": {},
          "execution_count": 7
        }
      ]
    },
    {
      "cell_type": "code",
      "source": [
        "# 다시한번 car의 배열 확인\n",
        "car.shape"
      ],
      "metadata": {
        "colab": {
          "base_uri": "https://localhost:8080/"
        },
        "id": "FPLjZiqBgmr-",
        "outputId": "00a5be5b-30af-4d56-ac47-85e5ad635247"
      },
      "execution_count": 8,
      "outputs": [
        {
          "output_type": "execute_result",
          "data": {
            "text/plain": [
              "(9576, 10)"
            ]
          },
          "metadata": {},
          "execution_count": 8
        }
      ]
    },
    {
      "cell_type": "code",
      "source": [
        "# car.corr()로 타겟과 여러 변수들의 상관계수 확인\n",
        "car.corr()['price'].sort_values(ascending = False)"
      ],
      "metadata": {
        "colab": {
          "base_uri": "https://localhost:8080/"
        },
        "id": "x3tCwvvygoOl",
        "outputId": "c5bc2a35-b1d8-4a0c-bb99-ced9eb17d7a3"
      },
      "execution_count": 9,
      "outputs": [
        {
          "output_type": "execute_result",
          "data": {
            "text/plain": [
              "price      1.000000\n",
              "year       0.370379\n",
              "engV       0.049804\n",
              "mileage   -0.312415\n",
              "Name: price, dtype: float64"
            ]
          },
          "metadata": {},
          "execution_count": 9
        }
      ]
    },
    {
      "cell_type": "code",
      "source": [
        "import matplotlib.pyplot as plt\n",
        "import seaborn as sns\n",
        "\n",
        "# predict: 우리가 정한 기준모델인 평균으로 예측을 합니다\n",
        "predict = car['price'].mean()\n",
        "# 평균값으로 예측할 때 샘플 별 평균값과의 차이(error)를 저장합니다\n",
        "errors = predict - car['price']\n",
        "# mean_absolute_error(MAE), error에 절대값을 취한 후 평균을 계산합니다.\n",
        "mean_absolute_error = errors.abs().mean()\n",
        "mean_absolute_error\n",
        "\n",
        "# 시각화\n",
        "x = car['engV']\n",
        "y = car['price']\n",
        "\n",
        "sns.lineplot(x = x, y  = predict, color = 'red')\n",
        "sns.scatterplot(x = x, y = y, color = 'blue')\n",
        "\n",
        "print(f' 평균 예측은 {predict : .0f}이고, 절대평균에러(MAE)는 {mean_absolute_error:0f}입니다.')"
      ],
      "metadata": {
        "colab": {
          "base_uri": "https://localhost:8080/",
          "height": 297
        },
        "id": "ICMfwohMg5d_",
        "outputId": "030264aa-1e92-4fdd-afc8-7d116b8e2828"
      },
      "execution_count": 79,
      "outputs": [
        {
          "output_type": "stream",
          "name": "stdout",
          "text": [
            " 평균 예측은  15633이고, 절대평균에러(MAE)는 12382.731930입니다.\n"
          ]
        },
        {
          "output_type": "display_data",
          "data": {
            "text/plain": [
              "<Figure size 432x288 with 1 Axes>"
            ],
            "image/png": "[encoded data removed]"
          },
          "metadata": {
            "needs_background": "light"
          }
        }
      ]
    },
    {
      "cell_type": "code",
      "source": [
        "from sklearn.linear_model import LinearRegression\n",
        "\n",
        "# 예측모델 인스턴스를 만듭니다\n",
        "model = LinearRegression()\n",
        "# X 특성들의 테이블과, y 타겟 벡터를 만듭니다\n",
        "# 엔진 용량에 따른 가격 예측\n",
        "feature = ['engV']\n",
        "target = ['price']\n",
        "X_train = car[feature]\n",
        "y_train = car[target]\n",
        "\n",
        "# 모델을 학습(fit)합니다\n",
        "model.fit(X_train,y_train)\n",
        "\n",
        "# 새로운 데이터 한 샘플을 선택해 학습한 모델을 통해 예측해 봅니다\n",
        "X_test = [[4.5]]\n",
        "y_pred = model.predict(X_test)\n",
        "print(f'{X_test} 일 때 {float(y_pred):,.0f}')"
      ],
      "metadata": {
        "colab": {
          "base_uri": "https://localhost:8080/"
        },
        "id": "KVnTcvsm41GE",
        "outputId": "2e1f42d1-b422-4c1d-8fdd-d2bb3d7357fd"
      },
      "execution_count": 87,
      "outputs": [
        {
          "output_type": "stream",
          "name": "stdout",
          "text": [
            "[[4.5]] 일 때 16,018\n"
          ]
        },
        {
          "output_type": "stream",
          "name": "stderr",
          "text": [
            "/usr/local/lib/python3.7/dist-packages/sklearn/base.py:451: UserWarning: X does not have valid feature names, but LinearRegression was fitted with feature names\n",
            "  \"X does not have valid feature names, but\"\n"
          ]
        }
      ]
    },
    {
      "cell_type": "code",
      "source": [
        "from sklearn.linear_model import LinearRegression\n",
        "\n",
        "# 예측모델 인스턴스를 만듭니다\n",
        "model6 = LinearRegression()\n",
        "# X 특성들의 테이블과, y 타겟 벡터를 만듭니다\n",
        "feature = ['year']\n",
        "target = ['price']\n",
        "X_train = car[feature]\n",
        "y_train = car[target]\n",
        "\n",
        "# 모델을 학습(fit)합니다\n",
        "model6.fit(X_train,y_train)\n",
        "\n",
        "# 새로운 데이터 한 샘플을 선택해 학습한 모델을 통해 예측해 봅니다\n",
        "X_test = [[2015]]\n",
        "y_pred = model6.predict(X_test)\n",
        "print(f'{X_test} 일 때 {float(y_pred):,.0f}')"
      ],
      "metadata": {
        "colab": {
          "base_uri": "https://localhost:8080/"
        },
        "id": "Y8zsAfYl4LT6",
        "outputId": "b743c17d-048f-410f-8e86-717a95c4ff63"
      },
      "execution_count": 83,
      "outputs": [
        {
          "output_type": "stream",
          "name": "stdout",
          "text": [
            "[[2015]] 일 때 26,237\n"
          ]
        },
        {
          "output_type": "stream",
          "name": "stderr",
          "text": [
            "/usr/local/lib/python3.7/dist-packages/sklearn/base.py:451: UserWarning: X does not have valid feature names, but LinearRegression was fitted with feature names\n",
            "  \"X does not have valid feature names, but\"\n"
          ]
        }
      ]
    },
    {
      "cell_type": "code",
      "source": [
        "from sklearn.linear_model import LinearRegression\n",
        "\n",
        "# 예측모델 인스턴스를 만듭니다\n",
        "model7 = LinearRegression()\n",
        "# X 특성들의 테이블과, y 타겟 벡터를 만듭니다\n",
        "feature = ['mileage']\n",
        "target = ['price']\n",
        "X_train = car[feature]\n",
        "y_train = car[target]\n",
        "\n",
        "# 모델을 학습(fit)합니다\n",
        "model7.fit(X_train,y_train)\n",
        "\n",
        "# 새로운 데이터 한 샘플을 선택해 학습한 모델을 통해 예측해 봅니다\n",
        "X_test = [[150]]\n",
        "y_pred = model7.predict(X_test)\n",
        "print(f'{X_test} 일 때 {float(y_pred):,.0f}')"
      ],
      "metadata": {
        "colab": {
          "base_uri": "https://localhost:8080/"
        },
        "id": "MJESE1R_4U4S",
        "outputId": "fd6afd6c-7c89-4d76-b67b-70c353a71dbb"
      },
      "execution_count": 66,
      "outputs": [
        {
          "output_type": "stream",
          "name": "stdout",
          "text": [
            "[[150]] 일 때 14,783\n"
          ]
        },
        {
          "output_type": "stream",
          "name": "stderr",
          "text": [
            "/usr/local/lib/python3.7/dist-packages/sklearn/base.py:451: UserWarning: X does not have valid feature names, but LinearRegression was fitted with feature names\n",
            "  \"X does not have valid feature names, but\"\n"
          ]
        }
      ]
    },
    {
      "cell_type": "code",
      "source": [
        "#engV에 대한 회귀계수\n",
        "# 전체 테스트 데이터를 모델을 통해 예측\n",
        "X_test = [[x] for x in car['engV']]\n",
        "y_pred =  model.predict(X_test)"
      ],
      "metadata": {
        "id": "wIKzlbYWV6Ay",
        "colab": {
          "base_uri": "https://localhost:8080/"
        },
        "outputId": "2e183ae4-c1dd-4ce5-9ad8-a1d096fc25dd"
      },
      "execution_count": 12,
      "outputs": [
        {
          "output_type": "stream",
          "name": "stderr",
          "text": [
            "/usr/local/lib/python3.7/dist-packages/sklearn/base.py:451: UserWarning: X does not have valid feature names, but LinearRegression was fitted with feature names\n",
            "  \"X does not have valid feature names, but\"\n"
          ]
        }
      ]
    },
    {
      "cell_type": "code",
      "source": [
        "# 전체 예측값 \n",
        "y_pred"
      ],
      "metadata": {
        "colab": {
          "base_uri": "https://localhost:8080/"
        },
        "id": "Ci7i7eCiXUwP",
        "outputId": "916cf13c-b44a-436b-f062-a651db8afc2c"
      },
      "execution_count": 13,
      "outputs": [
        {
          "output_type": "execute_result",
          "data": {
            "text/plain": [
              "array([[15602.98124848],\n",
              "       [15457.87658271],\n",
              "       [16224.85838749],\n",
              "       ...,\n",
              "       [15810.27362815],\n",
              "       [15810.27362815],\n",
              "       [15831.00286612]])"
            ]
          },
          "metadata": {},
          "execution_count": 13
        }
      ]
    },
    {
      "cell_type": "code",
      "source": [
        "# train 데이터에 대한 그래프를 그려보겠습니다.\n",
        "plt.scatter(X_train,y_train, color = 'black', linewidth = 1)\n",
        "\n",
        "# test 데이터에 대한 예측을 파란색 점으로 나타낸 것\n",
        "plt.scatter(X_test, y_pred, color = 'blue', linewidth = 1);"
      ],
      "metadata": {
        "colab": {
          "base_uri": "https://localhost:8080/",
          "height": 265
        },
        "id": "xYDZ6ii5XZfo",
        "outputId": "10003198-0ae2-4652-8e5a-4e690b643e34"
      },
      "execution_count": 14,
      "outputs": [
        {
          "output_type": "display_data",
          "data": {
            "text/plain": [
              "<Figure size 432x288 with 1 Axes>"
            ],
            "image/png": "[encoded data removed]"
          },
          "metadata": {
            "needs_background": "light"
          }
        }
      ]
    },
    {
      "cell_type": "code",
      "source": [
        "# 계수(coefficient)\n",
        "model.coef_\n",
        "\n",
        "# 절편(intercept)\n",
        "model.intercept_\n",
        "\n",
        "# 계수와 절편\n",
        "print(f'계수(coef)는 {float(model.coef_):.0f}이고, 절편은(intercept)는 {float(model.intercept_):0f}이다')\n",
        "print(f'따라서 1 engV에 따라 {float(model.coef_):.0f}증가한다')"
      ],
      "metadata": {
        "colab": {
          "base_uri": "https://localhost:8080/"
        },
        "id": "u61nEBzBcG8M",
        "outputId": "7d87018d-b432-4dfe-97a2-9e8a4a5ec8cd"
      },
      "execution_count": 15,
      "outputs": [
        {
          "output_type": "stream",
          "name": "stdout",
          "text": [
            "계수(coef)는 207이고, 절편은(intercept)는 15084.750299이다\n",
            "따라서 1 engV에 따라 207증가한다\n"
          ]
        }
      ]
    },
    {
      "cell_type": "code",
      "source": [
        "from sklearn.linear_model import LinearRegression\n",
        "\n",
        "# 예측모델 인스턴스를 만듭니다\n",
        "model1 = LinearRegression()"
      ],
      "metadata": {
        "id": "9VJ8kLJqSn3n"
      },
      "execution_count": 16,
      "outputs": []
    },
    {
      "cell_type": "code",
      "source": [
        "# X 특성들의 테이블과, y 타겟 벡터를 만듭니다\n",
        "feature1 = ['mileage']\n",
        "target1 = ['price']\n",
        "X1 = car[feature1]\n",
        "y1 = car[target1]\n",
        "\n",
        "# 모델을 학습(fit)합니다\n",
        "model1.fit(X1,y1)"
      ],
      "metadata": {
        "id": "dhnmlXbicgHX",
        "colab": {
          "base_uri": "https://localhost:8080/"
        },
        "outputId": "8e13668c-4f49-4699-b914-64ea412e412b"
      },
      "execution_count": 17,
      "outputs": [
        {
          "output_type": "execute_result",
          "data": {
            "text/plain": [
              "LinearRegression()"
            ]
          },
          "metadata": {},
          "execution_count": 17
        }
      ]
    },
    {
      "cell_type": "code",
      "source": [
        "# 전체 테스트 데이터를 모델을 통해 예측\n",
        "X_test2 = [[x] for x in car['mileage']]\n",
        "y_pred2 = model1.predict(X_test2)\n",
        "y_pred2"
      ],
      "metadata": {
        "colab": {
          "base_uri": "https://localhost:8080/"
        },
        "id": "YyRJObbkQ8k5",
        "outputId": "e229197e-71db-4938-b28b-e770988a112c"
      },
      "execution_count": 18,
      "outputs": [
        {
          "output_type": "stream",
          "name": "stderr",
          "text": [
            "/usr/local/lib/python3.7/dist-packages/sklearn/base.py:451: UserWarning: X does not have valid feature names, but LinearRegression was fitted with feature names\n",
            "  \"X does not have valid feature names, but\"\n"
          ]
        },
        {
          "output_type": "execute_result",
          "data": {
            "text/plain": [
              "array([[21044.27600203],\n",
              "       [13026.61150411],\n",
              "       [15928.24246526],\n",
              "       ...,\n",
              "       [12492.10053758],\n",
              "       [14782.8618227 ],\n",
              "       [20815.19987352]])"
            ]
          },
          "metadata": {},
          "execution_count": 18
        }
      ]
    },
    {
      "cell_type": "code",
      "source": [
        "# train 데이터에 대한 그래프를 그려보겠습니다.\n",
        "plt.scatter(X1, y1, color='black', linewidth=1)\n",
        "\n",
        "# test 데이터에 대한 예측을 파란색 점으로 나타내 보겠습니다.\n",
        "plt.scatter(X_test2, y_pred2, color='blue', linewidth=1);"
      ],
      "metadata": {
        "colab": {
          "base_uri": "https://localhost:8080/",
          "height": 265
        },
        "id": "DlGW5eAZSthX",
        "outputId": "97be9d5f-c72d-47c6-f9e5-c75f0851c6a6"
      },
      "execution_count": 19,
      "outputs": [
        {
          "output_type": "display_data",
          "data": {
            "text/plain": [
              "<Figure size 432x288 with 1 Axes>"
            ],
            "image/png": "[encoded data removed]"
          },
          "metadata": {
            "needs_background": "light"
          }
        }
      ]
    },
    {
      "cell_type": "code",
      "source": [
        "# 계수(coefficient)\n",
        "model1.coef_\n",
        "\n",
        "# 절편(intercept)\n",
        "model1.intercept_\n",
        "\n",
        "# 계수와 절편\n",
        "print(f'계수(coef)는 {float(model1.coef_):,.0f}이고, 절편은(intercept){float(model1.intercept_):,.0f}이다') \n",
        "print(f'따라서 1 mileage에 따라 {float(model1.coef_):.0f} 감소한다')\n",
        "print('mileage가 증가할 수록 가격은 감소한다')"
      ],
      "metadata": {
        "colab": {
          "base_uri": "https://localhost:8080/"
        },
        "id": "9CI_19B6S0d6",
        "outputId": "f7533db9-495b-4ab0-e327-1dba57ad8c2a"
      },
      "execution_count": 20,
      "outputs": [
        {
          "output_type": "stream",
          "name": "stdout",
          "text": [
            "계수(coef)는 -76이고, 절편은(intercept)26,237이다\n",
            "따라서 1 mileage에 따라 -76 감소한다\n",
            "mileage가 증가할 수록 가격은 감소한다\n"
          ]
        }
      ]
    },
    {
      "cell_type": "code",
      "source": [
        "from sklearn.linear_model import LinearRegression\n",
        "\n",
        "# 예측모델 인스턴스를 만듭니다\n",
        "model2 = LinearRegression()"
      ],
      "metadata": {
        "id": "IJI7BnIpS8eH"
      },
      "execution_count": 21,
      "outputs": []
    },
    {
      "cell_type": "code",
      "source": [
        "# X 특성들의 테이블과, y 타겟 벡터를 만듭니다\n",
        "feature2 = ['year']\n",
        "target2 = ['price']\n",
        "X2 = car[feature2]\n",
        "y2 = car[target2]\n",
        "\n",
        "# 모델을 학습(fit)합니다\n",
        "model2.fit(X2,y2)"
      ],
      "metadata": {
        "colab": {
          "base_uri": "https://localhost:8080/"
        },
        "id": "OsvIvsdXTPhW",
        "outputId": "0b7fc111-a0d5-4fa1-f079-6e1192e59575"
      },
      "execution_count": 22,
      "outputs": [
        {
          "output_type": "execute_result",
          "data": {
            "text/plain": [
              "LinearRegression()"
            ]
          },
          "metadata": {},
          "execution_count": 22
        }
      ]
    },
    {
      "cell_type": "code",
      "source": [
        "# 전체 테스트 데이터를 모델을 통해 예측\n",
        "X_test3 = [[x] for x in car['year']]\n",
        "y_pred3 = model2.predict(X_test3)\n",
        "y_pred3"
      ],
      "metadata": {
        "colab": {
          "base_uri": "https://localhost:8080/"
        },
        "id": "LfrtwphUTX-0",
        "outputId": "3461403a-9bdf-42a1-a3f3-7f22aceb3459"
      },
      "execution_count": 23,
      "outputs": [
        {
          "output_type": "stream",
          "name": "stderr",
          "text": [
            "/usr/local/lib/python3.7/dist-packages/sklearn/base.py:451: UserWarning: X does not have valid feature names, but LinearRegression was fitted with feature names\n",
            "  \"X does not have valid feature names, but\"\n"
          ]
        },
        {
          "output_type": "execute_result",
          "data": {
            "text/plain": [
              "array([[19920.79457285],\n",
              "       [21184.04438707],\n",
              "       [17394.29494441],\n",
              "       ...,\n",
              "       [17394.29494441],\n",
              "       [17394.29494441],\n",
              "       [16131.04513019]])"
            ]
          },
          "metadata": {},
          "execution_count": 23
        }
      ]
    },
    {
      "cell_type": "code",
      "source": [
        "# train 데이터에 대한 그래프를 그려보겠습니다.\n",
        "plt.scatter(X2, y2, color='black', linewidth=1)\n",
        "\n",
        "# test 데이터에 대한 예측을 파란색 점으로 나타내 보겠습니다.\n",
        "plt.scatter(X_test3, y_pred3, color='blue', linewidth=1);"
      ],
      "metadata": {
        "colab": {
          "base_uri": "https://localhost:8080/",
          "height": 265
        },
        "id": "uhGNzEy1T8ps",
        "outputId": "4a1d5886-db87-41f4-f52a-ccf7571d8687"
      },
      "execution_count": 24,
      "outputs": [
        {
          "output_type": "display_data",
          "data": {
            "text/plain": [
              "<Figure size 432x288 with 1 Axes>"
            ],
            "image/png": "[encoded data removed]"
          },
          "metadata": {
            "needs_background": "light"
          }
        }
      ]
    },
    {
      "cell_type": "code",
      "source": [
        "# 계수(coefficient)\n",
        "model2.coef_\n",
        "\n",
        "# 절편(intercept)\n",
        "model2.intercept_\n",
        "\n",
        "# 계수와 절편\n",
        "print(f'계수(coef)는 {float(model2.coef_):,.0f}이고, 절편은(intercept) {float(model2.intercept_):,.0f}이다')\n",
        "print(f'따라서 연도에 따라 {float(model2.coef_):,.0f} 증가한다')\n",
        "print('최신식일 수록 가격은 증가한다')"
      ],
      "metadata": {
        "colab": {
          "base_uri": "https://localhost:8080/"
        },
        "id": "T_JWCpwCUGua",
        "outputId": "6962899a-81f2-4272-903a-7f8124f1fc8b"
      },
      "execution_count": 25,
      "outputs": [
        {
          "output_type": "stream",
          "name": "stdout",
          "text": [
            "계수(coef)는 1,263이고, 절편은(intercept) -2,519,211이다\n",
            "따라서 연도에 따라 1,263 증가한다\n",
            "최신식일 수록 가격은 증가한다\n"
          ]
        }
      ]
    },
    {
      "cell_type": "code",
      "source": [
        "# 다중선형회귀 \n",
        "from sklearn.linear_model import LinearRegression\n",
        "model3 = LinearRegression()\n",
        "\n",
        "# test, train 데이터로 나누기\n",
        "test = car[(car['year']>= 2000)]\n",
        "train = car.drop(test.index)\n",
        "train\n",
        "\n",
        "# label 정의\n",
        "target = 'price'\n",
        "y_train = train[target]\n",
        "y_test = test[target]\n",
        "\n",
        "# label 정의\n",
        "features = ['engV','year']\n",
        "X_train = train[features]\n",
        "X_test = test[features]\n",
        "\n",
        "# 모델 학습\n",
        "model3.fit(X_train,y_train)\n"
      ],
      "metadata": {
        "colab": {
          "base_uri": "https://localhost:8080/"
        },
        "id": "twcvgZdFUPkp",
        "outputId": "1266eae9-bf71-4dbf-ffc2-e98cd83cdeba"
      },
      "execution_count": 26,
      "outputs": [
        {
          "output_type": "execute_result",
          "data": {
            "text/plain": [
              "LinearRegression()"
            ]
          },
          "metadata": {},
          "execution_count": 26
        }
      ]
    },
    {
      "cell_type": "code",
      "source": [
        "test.shape , train.shape"
      ],
      "metadata": {
        "colab": {
          "base_uri": "https://localhost:8080/"
        },
        "id": "SE_7aF8De1A7",
        "outputId": "310e02e8-99f4-4f37-bff4-b8a06098a498"
      },
      "execution_count": 27,
      "outputs": [
        {
          "output_type": "execute_result",
          "data": {
            "text/plain": [
              "((8282, 10), (1294, 10))"
            ]
          },
          "metadata": {},
          "execution_count": 27
        }
      ]
    },
    {
      "cell_type": "code",
      "source": [
        "# 회귀식을 만들어 봅시다\n",
        "b0 = model3.intercept_\n",
        "b1,b2 = model3.coef_\n",
        "print(f'절편은 b0: {b0:.0f}, engV 계수는 b1:{b1:.3f},  year 계수는 b2:{b2:.3f}')"
      ],
      "metadata": {
        "colab": {
          "base_uri": "https://localhost:8080/"
        },
        "id": "AqxitY1OXw9B",
        "outputId": "7ab2f25e-9c9a-427b-dd23-8a28e70c66a6"
      },
      "execution_count": 28,
      "outputs": [
        {
          "output_type": "stream",
          "name": "stdout",
          "text": [
            "절편은 b0: -215015, engV 계수는 b1:3.413,  year 계수는 b2:109.678\n"
          ]
        }
      ]
    },
    {
      "cell_type": "code",
      "source": [
        "#훈련 에러\n",
        "y_pred3 = model3.predict(X_train)\n",
        "mae2 = mean_absolute_error(y_train,y_pred3)\n",
        "print(f'훈련 에러(mae): {mae2:.0f}')"
      ],
      "metadata": {
        "colab": {
          "base_uri": "https://localhost:8080/"
        },
        "id": "jgG2EwUri9K8",
        "outputId": "cc98cf7c-9b8e-4cc4-fe15-12ca9d22afc5"
      },
      "execution_count": 32,
      "outputs": [
        {
          "output_type": "stream",
          "name": "stdout",
          "text": [
            "훈련 에러(mae): 1737\n"
          ]
        }
      ]
    },
    {
      "cell_type": "code",
      "source": [
        "#테스트 에러\n",
        "y_pred3 = model3.predict(X_test)\n",
        "mae3 = mean_absolute_error(y_test,y_pred3)\n",
        "print(f'테스트 에러(mae): {mae3:.0f}')"
      ],
      "metadata": {
        "colab": {
          "base_uri": "https://localhost:8080/"
        },
        "id": "W9pSc81Ki8lV",
        "outputId": "248d710a-01d3-445b-f644-66eabdffa545"
      },
      "execution_count": 31,
      "outputs": [
        {
          "output_type": "stream",
          "name": "stdout",
          "text": [
            "테스트 에러(mae): 12947\n"
          ]
        }
      ]
    },
    {
      "cell_type": "code",
      "source": [
        "from sklearn.metrics import  mean_squared_error, mean_absolute_error, r2_score\n",
        "import numpy as np\n",
        "\n",
        "#MSE (Mean Squared Error) \n",
        "#MAE (Mean absolute error)\n",
        "#RMSE (Root Mean Squared Error)\n",
        "#R-squared (Coefficient of determination)\n",
        "y_pred3 = model3.predict(X_test)\n",
        "MAE = mean_absolute_error(y_test, y_pred3)\n",
        "MSE = mean_squared_error(y_test, y_pred3)\n",
        "RMSE = np.sqrt(MSE)\n",
        "R2 = r2_score(y_test,y_pred3)\n",
        "print(f'MAE : {MAE:.1f}, MSE : {MSE:.1f}, RMSE : {RMSE:.1f}, R2 : {R2:.1f}')"
      ],
      "metadata": {
        "colab": {
          "base_uri": "https://localhost:8080/"
        },
        "id": "wrdBqVHdaclT",
        "outputId": "d453ce21-0d91-4e37-b184-aad16aeef152"
      },
      "execution_count": 30,
      "outputs": [
        {
          "output_type": "stream",
          "name": "stdout",
          "text": [
            "MAE : 12947.1, MSE : 784279332.1, RMSE : 28005.0, R2 : -0.2\n"
          ]
        }
      ]
    },
    {
      "cell_type": "code",
      "source": [
        "# 다중선형회귀 \n",
        "from sklearn.linear_model import LinearRegression\n",
        "model4 = LinearRegression()\n",
        "\n",
        "# test, train 데이터로 나누기\n",
        "test = car[(car['year']>= 2000)]\n",
        "train = car.drop(test.index)\n",
        "train\n",
        "\n",
        "# label 정의\n",
        "target = 'price'\n",
        "y_train = train[target]\n",
        "y_test = test[target]\n",
        "\n",
        "# label 정의\n",
        "features = ['engV','mileage']\n",
        "X_train = train[features]\n",
        "X_test = test[features]\n",
        "\n",
        "# 모델 학습\n",
        "model4.fit(X_train,y_train)"
      ],
      "metadata": {
        "colab": {
          "base_uri": "https://localhost:8080/"
        },
        "id": "L3JOgwOKX63k",
        "outputId": "d81803b3-97b6-4270-ed8f-4766c7a5d0f6"
      },
      "execution_count": 33,
      "outputs": [
        {
          "output_type": "execute_result",
          "data": {
            "text/plain": [
              "LinearRegression()"
            ]
          },
          "metadata": {},
          "execution_count": 33
        }
      ]
    },
    {
      "cell_type": "code",
      "source": [
        "# 회귀식을 만들어 봅시다\n",
        "b0 = model4.intercept_\n",
        "b1,b2 = model4.coef_\n",
        "print(f'절편은 b0: {b0:.0f}, engV 계수는 b1:{b1:.2f},  year 계수는 b2:{b2:.2f}')"
      ],
      "metadata": {
        "colab": {
          "base_uri": "https://localhost:8080/"
        },
        "id": "x48PkTiMYWuw",
        "outputId": "b30771b0-dfda-4eec-af1a-23139707f739"
      },
      "execution_count": 34,
      "outputs": [
        {
          "output_type": "stream",
          "name": "stdout",
          "text": [
            "절편은 b0: 2548, engV 계수는 b1:-3.49,  year 계수는 b2:4.58\n"
          ]
        }
      ]
    },
    {
      "cell_type": "code",
      "source": [
        "#훈련 에러\n",
        "y_pred4 = model4.predict(X_train)\n",
        "mae2 = mean_absolute_error(y_train,y_pred4)\n",
        "print(f'훈련 에러(mae): {mae2:.0f}')"
      ],
      "metadata": {
        "colab": {
          "base_uri": "https://localhost:8080/"
        },
        "id": "1eGbALdninxc",
        "outputId": "4c23e93c-1869-4e12-84d9-7e8bcecc9ad8"
      },
      "execution_count": 39,
      "outputs": [
        {
          "output_type": "stream",
          "name": "stdout",
          "text": [
            "훈련 에러(mae): 1796\n"
          ]
        }
      ]
    },
    {
      "cell_type": "code",
      "source": [
        "#테스트 에러\n",
        "y_pred4 = model4.predict(X_test)\n",
        "mae3 = mean_absolute_error(y_test,y_pred4)\n",
        "print(f'테스트 에러(mae): {mae3:.1f}')"
      ],
      "metadata": {
        "colab": {
          "base_uri": "https://localhost:8080/"
        },
        "id": "g9vRbPbOixZk",
        "outputId": "0c09c786-7785-4f72-afc7-196d4d04f2ff"
      },
      "execution_count": 38,
      "outputs": [
        {
          "output_type": "stream",
          "name": "stdout",
          "text": [
            "테스트 에러(mae): 14670.7\n"
          ]
        }
      ]
    },
    {
      "cell_type": "code",
      "source": [
        "from sklearn.metrics import  mean_squared_error, mean_absolute_error, r2_score\n",
        "import numpy as np\n",
        "\n",
        "#MSE (Mean Squared Error) \n",
        "#MAE (Mean absolute error)\n",
        "#RMSE (Root Mean Squared Error)\n",
        "#R-squared (Coefficient of determination)\n",
        "y_pred4 = model4.predict(X_test)\n",
        "MAE = mean_absolute_error(y_test, y_pred4)\n",
        "MSE = mean_squared_error(y_test, y_pred4)\n",
        "RMSE = np.sqrt(MSE)\n",
        "R2 = r2_score(y_test,y_pred4)\n",
        "print(f'MAE : {MAE:.1f}, MSE : {MSE:.1f}, RMSE : {RMSE:.1f}, R2 : {R2:.1f}')"
      ],
      "metadata": {
        "colab": {
          "base_uri": "https://localhost:8080/"
        },
        "id": "TsR7ok1HZcgJ",
        "outputId": "622d7fce-0953-47ce-ec01-eea0d6052349"
      },
      "execution_count": 37,
      "outputs": [
        {
          "output_type": "stream",
          "name": "stdout",
          "text": [
            "MAE : 14670.7, MSE : 858328628.8, RMSE : 29297.2, R2 : -0.3\n"
          ]
        }
      ]
    },
    {
      "cell_type": "code",
      "source": [
        "# 다중선형회귀 \n",
        "from sklearn.linear_model import LinearRegression\n",
        "model5 = LinearRegression()\n",
        "\n",
        "# test, train 데이터로 나누기\n",
        "test = car[(car['year']>= 2000)]\n",
        "train = car.drop(test.index)\n",
        "train\n",
        "\n",
        "# label 정의\n",
        "target = 'price'\n",
        "y_train = train[target]\n",
        "y_test = test[target]\n",
        "\n",
        "# label 정의\n",
        "features = ['year','mileage']\n",
        "X_train = train[features]\n",
        "X_test = test[features]\n",
        "\n",
        "# 모델 학습\n",
        "model5.fit(X_train,y_train)"
      ],
      "metadata": {
        "colab": {
          "base_uri": "https://localhost:8080/"
        },
        "id": "-pYCDSXKaoRV",
        "outputId": "178da3a4-b7eb-4d51-8251-b97fb73c63e4"
      },
      "execution_count": 40,
      "outputs": [
        {
          "output_type": "execute_result",
          "data": {
            "text/plain": [
              "LinearRegression()"
            ]
          },
          "metadata": {},
          "execution_count": 40
        }
      ]
    },
    {
      "cell_type": "code",
      "source": [
        "# 회귀식을 만들어 봅시다\n",
        "b0 = model5.intercept_\n",
        "b1,b2 = model5.coef_\n",
        "print(f'절편은 b0: {b0:.0f}, year 계수는 b1:{b1:.2f},  mileage 계수는 b2:{b2:.2f}')"
      ],
      "metadata": {
        "colab": {
          "base_uri": "https://localhost:8080/"
        },
        "id": "EK55--0ucWKB",
        "outputId": "aa51a61f-8db9-481a-daef-fcaa5e18d0e4"
      },
      "execution_count": 41,
      "outputs": [
        {
          "output_type": "stream",
          "name": "stdout",
          "text": [
            "절편은 b0: -170856, year 계수는 b1:87.17,  mileage 계수는 b2:3.18\n"
          ]
        }
      ]
    },
    {
      "cell_type": "code",
      "source": [
        "#훈련 에러\n",
        "y_pred5 = model5.predict(X_train)\n",
        "mae2 = mean_absolute_error(y_train,y_pred5)\n",
        "print(f'훈련 에러(mae): {mae2:.0f}')"
      ],
      "metadata": {
        "colab": {
          "base_uri": "https://localhost:8080/"
        },
        "id": "UR07Cxy4ie30",
        "outputId": "6edc001b-cc81-41f0-a6f7-d5674dcbb0c0"
      },
      "execution_count": 44,
      "outputs": [
        {
          "output_type": "stream",
          "name": "stdout",
          "text": [
            "훈련 에러(mae): 1700\n"
          ]
        }
      ]
    },
    {
      "cell_type": "code",
      "source": [
        "#테스트 에러\n",
        "y_pred5 = model5.predict(X_test)\n",
        "mae3 = mean_absolute_error(y_test,y_pred5)\n",
        "print(f'테스트 에러(mae): {mae3:.0f}')"
      ],
      "metadata": {
        "colab": {
          "base_uri": "https://localhost:8080/"
        },
        "id": "ZkUOk58qiTvE",
        "outputId": "54335d6d-73d0-4dc2-b93b-e6a47e15692a"
      },
      "execution_count": 43,
      "outputs": [
        {
          "output_type": "stream",
          "name": "stdout",
          "text": [
            "테스트 에러(mae): 13435\n"
          ]
        }
      ]
    },
    {
      "cell_type": "code",
      "source": [
        "from sklearn.metrics import  mean_squared_error, mean_absolute_error, r2_score\n",
        "import numpy as np\n",
        "\n",
        "#MSE (Mean Squared Error) \n",
        "#MAE (Mean absolute error)\n",
        "#RMSE (Root Mean Squared Error)\n",
        "#R-squared (Coefficient of determination)\n",
        "y_pred5 = model5.predict(X_test)\n",
        "MAE = mean_absolute_error(y_test, y_pred5)\n",
        "MSE = mean_squared_error(y_test, y_pred5)\n",
        "RMSE = np.sqrt(MSE)\n",
        "R2 = r2_score(y_test,y_pred5)\n",
        "\n",
        "print(f'MAE : {MAE:.1f}, MSE : {MSE:.1f}, RMSE : {RMSE:.1f}, R2 : {R2:.1f}')"
      ],
      "metadata": {
        "colab": {
          "base_uri": "https://localhost:8080/"
        },
        "id": "35swkrlFcZQz",
        "outputId": "5319220a-1980-4cd4-94d5-0af8f2ef46f1"
      },
      "execution_count": 42,
      "outputs": [
        {
          "output_type": "stream",
          "name": "stdout",
          "text": [
            "MAE : 13434.9, MSE : 807106442.8, RMSE : 28409.6, R2 : -0.3\n"
          ]
        }
      ]
    },
    {
      "cell_type": "code",
      "source": [
        "#!pip install category_encoders"
      ],
      "metadata": {
        "id": "en7x6XuClmft"
      },
      "execution_count": null,
      "outputs": []
    },
    {
      "cell_type": "code",
      "source": [
        "from category_encoders import OneHotEncoder\n",
        "import numpy as np\n",
        "from sklearn.model_selection import train_test_split\n",
        "\n",
        "# 원핫 인코딩\n",
        "train, test = train_test_split(car, train_size=0.8, test_size=0.2, random_state=2)\n",
        "encoder = OneHotEncoder(use_cat_names = True)\n",
        "train = encoder.fit_transform(train)\n",
        "test = encoder.transform(test)"
      ],
      "metadata": {
        "id": "nL3fEubBcjRU",
        "colab": {
          "base_uri": "https://localhost:8080/"
        },
        "outputId": "16a7c5dd-cf2b-4880-9616-77b6a081a8ed"
      },
      "execution_count": 45,
      "outputs": [
        {
          "output_type": "stream",
          "name": "stderr",
          "text": [
            "/usr/local/lib/python3.7/dist-packages/statsmodels/tools/_testing.py:19: FutureWarning: pandas.util.testing is deprecated. Use the functions in the public API at pandas.testing instead.\n",
            "  import pandas.util.testing as tm\n"
          ]
        }
      ]
    },
    {
      "cell_type": "code",
      "source": [
        "train.shape, test.shape"
      ],
      "metadata": {
        "colab": {
          "base_uri": "https://localhost:8080/"
        },
        "id": "UzLeaJEzmExz",
        "outputId": "0a652ed8-c872-4520-9e43-40a0fc19bd2a"
      },
      "execution_count": 46,
      "outputs": [
        {
          "output_type": "execute_result",
          "data": {
            "text/plain": [
              "((7660, 937), (1916, 937))"
            ]
          },
          "metadata": {},
          "execution_count": 46
        }
      ]
    },
    {
      "cell_type": "code",
      "source": [
        "from sklearn.feature_selection import f_regression, SelectKBest\n",
        "# 타겟 설정\n",
        "target = 'price'\n",
        "\n",
        "# X,y train, test 데이터로 나눔 \n",
        "X_train = train.drop(columns=target)\n",
        "y_train = train[target]\n",
        "X_test = test.drop(columns=target)\n",
        "y_test = test[target]"
      ],
      "metadata": {
        "id": "TpZKonY9soBI"
      },
      "execution_count": 47,
      "outputs": []
    },
    {
      "cell_type": "code",
      "source": [
        "# selctor 정의합니다.\n",
        "selector = SelectKBest(score_func=f_regression, k=20)\n",
        "\n",
        "# 학습데이터에 fit_transform \n",
        "X_train_selected = selector.fit_transform(X_train, y_train)\n",
        "\n",
        "# 테스트 데이터는 transform\n",
        "X_test_selected = selector.transform(X_test)\n",
        "\n",
        "X_train_selected.shape, X_test_selected.shape"
      ],
      "metadata": {
        "colab": {
          "base_uri": "https://localhost:8080/"
        },
        "id": "z33zVNWq2zBO",
        "outputId": "517e7aa8-d70f-408c-9c6d-64d987c7993c"
      },
      "execution_count": 48,
      "outputs": [
        {
          "output_type": "execute_result",
          "data": {
            "text/plain": [
              "((7660, 20), (1916, 20))"
            ]
          },
          "metadata": {},
          "execution_count": 48
        }
      ]
    },
    {
      "cell_type": "code",
      "source": [
        "#특성들의 점수\n",
        "data = pd.DataFrame(selector.scores_, selector.feature_names_in_)\n",
        "\n",
        "data = data.sort_values(0, ascending = False)\n",
        "\n",
        "feature = selector.feature_names_in_\n",
        "\n",
        "selector.scores_\n",
        "data"
      ],
      "metadata": {
        "colab": {
          "base_uri": "https://localhost:8080/",
          "height": 424
        },
        "id": "jwn1RcP48oiG",
        "outputId": "3357e112-a76b-46a9-f18c-917547a40372"
      },
      "execution_count": 49,
      "outputs": [
        {
          "output_type": "execute_result",
          "data": {
            "text/plain": [
              "                                 0\n",
              "drive_full             1265.496300\n",
              "year                   1160.365412\n",
              "car_Bentley             975.344873\n",
              "model_Bentayga          875.763911\n",
              "drive_front             820.368185\n",
              "...                            ...\n",
              "model_Qashqai             0.000095\n",
              "model_500 L               0.000084\n",
              "model_523                 0.000045\n",
              "model_Dokker ïàññ.        0.000005\n",
              "model_ix55 (Veracruz)     0.000002\n",
              "\n",
              "[936 rows x 1 columns]"
            ],
            "text/html": [
              "\n",
              "  <div id=\"df-c592c8be-4d7a-4919-94de-1c7d3df27971\">\n",
              "    <div class=\"colab-df-container\">\n",
              "      <div>\n",
              "<style scoped>\n",
              "    .dataframe tbody tr th:only-of-type {\n",
              "        vertical-align: middle;\n",
              "    }\n",
              "\n",
              "    .dataframe tbody tr th {\n",
              "        vertical-align: top;\n",
              "    }\n",
              "\n",
              "    .dataframe thead th {\n",
              "        text-align: right;\n",
              "    }\n",
              "</style>\n",
              "<table border=\"1\" class=\"dataframe\">\n",
              "  <thead>\n",
              "    <tr style=\"text-align: right;\">\n",
              "      <th></th>\n",
              "      <th>0</th>\n",
              "    </tr>\n",
              "  </thead>\n",
              "  <tbody>\n",
              "    <tr>\n",
              "      <th>drive_full</th>\n",
              "      <td>1265.496300</td>\n",
              "    </tr>\n",
              "    <tr>\n",
              "      <th>year</th>\n",
              "      <td>1160.365412</td>\n",
              "    </tr>\n",
              "    <tr>\n",
              "      <th>car_Bentley</th>\n",
              "      <td>975.344873</td>\n",
              "    </tr>\n",
              "    <tr>\n",
              "      <th>model_Bentayga</th>\n",
              "      <td>875.763911</td>\n",
              "    </tr>\n",
              "    <tr>\n",
              "      <th>drive_front</th>\n",
              "      <td>820.368185</td>\n",
              "    </tr>\n",
              "    <tr>\n",
              "      <th>...</th>\n",
              "      <td>...</td>\n",
              "    </tr>\n",
              "    <tr>\n",
              "      <th>model_Qashqai</th>\n",
              "      <td>0.000095</td>\n",
              "    </tr>\n",
              "    <tr>\n",
              "      <th>model_500 L</th>\n",
              "      <td>0.000084</td>\n",
              "    </tr>\n",
              "    <tr>\n",
              "      <th>model_523</th>\n",
              "      <td>0.000045</td>\n",
              "    </tr>\n",
              "    <tr>\n",
              "      <th>model_Dokker ïàññ.</th>\n",
              "      <td>0.000005</td>\n",
              "    </tr>\n",
              "    <tr>\n",
              "      <th>model_ix55 (Veracruz)</th>\n",
              "      <td>0.000002</td>\n",
              "    </tr>\n",
              "  </tbody>\n",
              "</table>\n",
              "<p>936 rows × 1 columns</p>\n",
              "</div>\n",
              "      <button class=\"colab-df-convert\" onclick=\"convertToInteractive('df-c592c8be-4d7a-4919-94de-1c7d3df27971')\"\n",
              "              title=\"Convert this dataframe to an interactive table.\"\n",
              "              style=\"display:none;\">\n",
              "        \n",
              "  <svg xmlns=\"http://www.w3.org/2000/svg\" height=\"24px\"viewBox=\"0 0 24 24\"\n",
              "       width=\"24px\">\n",
              "    <path d=\"M0 0h24v24H0V0z\" fill=\"none\"/>\n",
              "    <path d=\"M18.56 5.44l.94 2.06.94-2.06 2.06-.94-2.06-.94-.94-2.06-.94 2.06-2.06.94zm-11 1L8.5 8.5l.94-2.06 2.06-.94-2.06-.94L8.5 2.5l-.94 2.06-2.06.94zm10 10l.94 2.06.94-2.06 2.06-.94-2.06-.94-.94-2.06-.94 2.06-2.06.94z\"/><path d=\"M17.41 7.96l-1.37-1.37c-.4-.4-.92-.59-1.43-.59-.52 0-1.04.2-1.43.59L10.3 9.45l-7.72 7.72c-.78.78-.78 2.05 0 2.83L4 21.41c.39.39.9.59 1.41.59.51 0 1.02-.2 1.41-.59l7.78-7.78 2.81-2.81c.8-.78.8-2.07 0-2.86zM5.41 20L4 18.59l7.72-7.72 1.47 1.35L5.41 20z\"/>\n",
              "  </svg>\n",
              "      </button>\n",
              "      \n",
              "  <style>\n",
              "    .colab-df-container {\n",
              "      display:flex;\n",
              "      flex-wrap:wrap;\n",
              "      gap: 12px;\n",
              "    }\n",
              "\n",
              "    .colab-df-convert {\n",
              "      background-color: #E8F0FE;\n",
              "      border: none;\n",
              "      border-radius: 50%;\n",
              "      cursor: pointer;\n",
              "      display: none;\n",
              "      fill: #1967D2;\n",
              "      height: 32px;\n",
              "      padding: 0 0 0 0;\n",
              "      width: 32px;\n",
              "    }\n",
              "\n",
              "    .colab-df-convert:hover {\n",
              "      background-color: #E2EBFA;\n",
              "      box-shadow: 0px 1px 2px rgba(60, 64, 67, 0.3), 0px 1px 3px 1px rgba(60, 64, 67, 0.15);\n",
              "      fill: #174EA6;\n",
              "    }\n",
              "\n",
              "    [theme=dark] .colab-df-convert {\n",
              "      background-color: #3B4455;\n",
              "      fill: #D2E3FC;\n",
              "    }\n",
              "\n",
              "    [theme=dark] .colab-df-convert:hover {\n",
              "      background-color: #434B5C;\n",
              "      box-shadow: 0px 1px 3px 1px rgba(0, 0, 0, 0.15);\n",
              "      filter: drop-shadow(0px 1px 2px rgba(0, 0, 0, 0.3));\n",
              "      fill: #FFFFFF;\n",
              "    }\n",
              "  </style>\n",
              "\n",
              "      <script>\n",
              "        const buttonEl =\n",
              "          document.querySelector('#df-c592c8be-4d7a-4919-94de-1c7d3df27971 button.colab-df-convert');\n",
              "        buttonEl.style.display =\n",
              "          google.colab.kernel.accessAllowed ? 'block' : 'none';\n",
              "\n",
              "        async function convertToInteractive(key) {\n",
              "          const element = document.querySelector('#df-c592c8be-4d7a-4919-94de-1c7d3df27971');\n",
              "          const dataTable =\n",
              "            await google.colab.kernel.invokeFunction('convertToInteractive',\n",
              "                                                     [key], {});\n",
              "          if (!dataTable) return;\n",
              "\n",
              "          const docLinkHtml = 'Like what you see? Visit the ' +\n",
              "            '<a target=\"_blank\" href=https://colab.research.google.com/notebooks/data_table.ipynb>data table notebook</a>'\n",
              "            + ' to learn more about interactive tables.';\n",
              "          element.innerHTML = '';\n",
              "          dataTable['output_type'] = 'display_data';\n",
              "          await google.colab.output.renderOutput(dataTable, element);\n",
              "          const docLink = document.createElement('div');\n",
              "          docLink.innerHTML = docLinkHtml;\n",
              "          element.appendChild(docLink);\n",
              "        }\n",
              "      </script>\n",
              "    </div>\n",
              "  </div>\n",
              "  "
            ]
          },
          "metadata": {},
          "execution_count": 49
        }
      ]
    }
  ]
}